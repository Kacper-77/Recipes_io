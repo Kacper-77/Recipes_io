{
 "cells": [
  {
   "cell_type": "code",
   "execution_count": null,
   "metadata": {},
   "outputs": [],
   "source": [
    "import psycopg2\n",
    "import streamlit as st\n",
    "import random\n",
    "from datetime import datetime, timezone\n",
    "import pandas as pd"
   ]
  },
  {
   "cell_type": "code",
   "execution_count": null,
   "metadata": {},
   "outputs": [],
   "source": [
    "def get_connection():\n",
    "    return psycopg2.connect(\n",
    "        dbname=st.secrets[\"database\"],\n",
    "        user=st.secrets[\"username\"],\n",
    "        password=st.secrets[\"password\"],\n",
    "        host=st.secrets[\"host\"],\n",
    "        port=st.secrets[\"port\"],\n",
    "        sslmode=st.secrets[\"sslmode\"]\n",
    "    )"
   ]
  },
  {
   "cell_type": "code",
   "execution_count": null,
   "metadata": {},
   "outputs": [],
   "source": [
    "with get_connection() as conn:\n",
    "    with conn.cursor() as cur:\n",
    "        cur.execute(\"\"\"\n",
    "CREATE TABLE IF NOT EXISTS usages (\n",
    "    id SERIAL PRIMARY KEY,\n",
    "    google_user_email VARCHAR(255),\n",
    "    created_at TIMESTAMP WITHOUT TIME ZONE DEFAULT CURRENT_TIMESTAMP,\n",
    "    output_tokens INTEGER,\n",
    "    input_tokens INTEGER,\n",
    "    input_text TEXT\n",
    ")\n",
    "        \"\"\")\n",
    "        conn.commit()"
   ]
  },
  {
   "cell_type": "code",
   "execution_count": null,
   "metadata": {},
   "outputs": [],
   "source": [
    "def insert_usage(email, output_tokens, input_tokens, input_text):\n",
    "    with get_connection() as conn:\n",
    "        with conn.cursor() as cur:\n",
    "            cur.execute(\"\"\"\n",
    "                INSERT INTO usages (google_user_email, output_tokens, input_tokens, input_text) VALUES (%s, %s, %s, %s)\n",
    "            \"\"\", (email, output_tokens, input_tokens, input_text))\n",
    "            conn.commit()"
   ]
  },
  {
   "cell_type": "code",
   "execution_count": null,
   "metadata": {},
   "outputs": [],
   "source": [
    "def get_current_month_usage_df(email):\n",
    "    with get_connection() as conn:\n",
    "        now = datetime.now(timezone.utc)\n",
    "        start_date = datetime(now.year, now.month, 1)\n",
    "        with conn.cursor() as cur:\n",
    "            cur.execute(\"SELECT * FROM usages WHERE google_user_email = %s AND created_at >= %s\", (email, start_date))\n",
    "            rows = cur.fetchall()\n",
    "            columns = [desc[0] for desc in cur.description]\n",
    "            df_usage = pd.DataFrame(rows, columns=columns)\n",
    "\n",
    "    return df_usage"
   ]
  }
 ],
 "metadata": {
  "language_info": {
   "name": "python"
  }
 },
 "nbformat": 4,
 "nbformat_minor": 2
}
